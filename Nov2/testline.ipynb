{
 "cells": [
  {
   "cell_type": "code",
   "execution_count": 1,
   "metadata": {},
   "outputs": [],
   "source": [
    "#Importando librerías\n",
    "import numpy as np\n",
    "import matplotlib.pyplot as plt\n",
    "from scipy import stats\n",
    "import scipy.optimize as opt"
   ]
  },
  {
   "cell_type": "code",
   "execution_count": 2,
   "metadata": {},
   "outputs": [],
   "source": [
    "#Cargando los datos\n",
    "A=np.load('test_line.npy')\n",
    "x=A[0]\n",
    "y=A[1]\n",
    "sig=A[2]\n",
    "sigma=0.1\n",
    "#sigma en a\n",
    "sigmax=10\n",
    "#sigma en b\n",
    "sigmay=10"
   ]
  },
  {
   "cell_type": "code",
   "execution_count": 3,
   "metadata": {},
   "outputs": [],
   "source": [
    "#parámetros\n",
    "#Número de pasos\n",
    "N=10000\n",
    "#Número de cadenas\n",
    "c=3"
   ]
  },
  {
   "cell_type": "code",
   "execution_count": 4,
   "metadata": {},
   "outputs": [],
   "source": [
    "#Funciones\n",
    "# funcion del modelo\n",
    "def f(x, a, b):\n",
    "    return a + b*x\n",
    "\n",
    "# función residual\n",
    "def g(beta):\n",
    "    return np.sum((y - f(x, *beta))**2/(sig**2))\n",
    "\n",
    "# Likelihood\n",
    "def llh(a,b):\n",
    "    #return -0.5*np.sum((y - f(x, *theta))**2/(sig**2))\n",
    "    return -0.5*np.sum(np.log(2*np.pi*sig**2)+(y - f(x,a,b))**2/(sig**2))#Con este ya funciona\n",
    "\n",
    "def prior():\n",
    "    if sigma <= 0:\n",
    "        return 0.0\n",
    "    return 1\n",
    "    \n",
    "# Posterior\n",
    "def p(a,b):\n",
    "    return llh(a,b)-np.log(prior())\n",
    "\n",
    "# Generador de muestras\n",
    "def sample(a,b,tasa):\n",
    "    a_new=np.random.normal(a, sigmax)\n",
    "    b_new=np.random.normal(b,sigmay)\n",
    "    p_old = p(a,b)\n",
    "    p_new = p(a_new,b_new)\n",
    "    if p_new>p_old:\n",
    "            a=a_new\n",
    "            b=b_new\n",
    "            tasa=tasa+1\n",
    "    else:\n",
    "            p_accept= p_new - p_old\n",
    "            accept = np.log(np.random.rand())\n",
    "            if accept< p_accept:\n",
    "                a= a_new\n",
    "                b= b_new\n",
    "                tasa=tasa+1\n",
    "   \n",
    "    return a,b,tasa\n",
    "\n",
    "#Generador de chain\n",
    "def cadena(n):\n",
    "    #Vector donde se guardan las nuevas coordenadas de a y se genera número aleatorio de inicio.\n",
    "    ap=np.array([np.random.uniform(190, 210)])\n",
    "    #Vector donde se guardan las nuevas coordenadas de b y se genera número aleatorio de inicio.\n",
    "    bp=np.array([np.random.uniform(20, 40)])\n",
    "    #creo una variable para el número de aceptados y la inicilizo en cero \n",
    "    acep=0\n",
    "    for i in range(1,n):\n",
    "        aux1,aux2,aux3=sample(ap[i-1],bp[i-1],acep)\n",
    "        ap=np.append(ap,aux1)\n",
    "        bp=np.append(bp,aux2)\n",
    "        acep=aux3\n",
    "    #porcentaje de aceptación\n",
    "    porc=(acep/n)*100\n",
    "    return ap,bp,porc\n",
    "\n",
    "#Está función recibe el número de cadenas y el número de pasos\n",
    "def multicad(ch,l):\n",
    "    MA=np.empty((ch,l))\n",
    "    MB=np.empty((ch,l))\n",
    "    PA=np.zeros(ch)\n",
    "    for i in range(ch):\n",
    "        MA[i],MB[i],PA[i]=cadena(l)\n",
    "    \n",
    "    return MA,MB,PA \n",
    "\n",
    "#Gráfica de los caminadores \n",
    "def cam(A,B):\n",
    "    for i in range(c):\n",
    "        plt.plot(A[i],B[i],'.',label='Cadena %s'%(i+1))\n",
    "        plt.plot(A[i][0],B[i][0],'<')\n",
    "    #plt.plot(matA[i][0],matB[i][0],'<',label='Punto inical cadena %s'%(i+1))\n",
    "    plt.legend()\n",
    "    plt.xlabel('a')\n",
    "    plt.ylabel('b')\n",
    "    plt.grid(True)\n",
    "    plt.show()\n",
    "\n",
    "#Gráfica para generar la línea recta del ajuste\n",
    "def line(A,B):\n",
    "    #Línea que se genera con los datos\n",
    "    #ymodel=postp[N][0]+postp[N][1]*x\n",
    "    plt.plot(x,y,'g.')\n",
    "    for i in range (c):\n",
    "        plt.plot(x,matA[i][N-1]+matB[i][N-1]*x,'--',label='Cadena %s'%(i+1))\n",
    "    plt.xlabel('x')\n",
    "    plt.ylabel('y')\n",
    "    plt.legend()\n",
    "    plt.show()"
   ]
  },
  {
   "cell_type": "markdown",
   "metadata": {},
   "source": [
    "# Chi-square"
   ]
  },
  {
   "cell_type": "code",
   "execution_count": 5,
   "metadata": {},
   "outputs": [],
   "source": [
    "# comenzamos la optimización\n",
    "#valores iniciales de a y b\n",
    "beta_start = (0, 0)#\n",
    "#Función de minimizar de scipy \n",
    "beta_opt = opt.minimize(g, beta_start)\n",
    "ych2=beta_opt.x[0]+A[0]*beta_opt.x[1]"
   ]
  },
  {
   "cell_type": "markdown",
   "metadata": {},
   "source": [
    "# MCMC"
   ]
  },
  {
   "cell_type": "code",
   "execution_count": 6,
   "metadata": {},
   "outputs": [],
   "source": [
    "matA,matB,t_acep=multicad(c,N)"
   ]
  },
  {
   "cell_type": "markdown",
   "metadata": {},
   "source": [
    "# Gráfica"
   ]
  },
  {
   "cell_type": "code",
   "execution_count": 7,
   "metadata": {},
   "outputs": [
    {
     "data": {
      "image/png": "[encoded data removed]",
      "text/plain": [
       "<Figure size 432x288 with 1 Axes>"
      ]
     },
     "metadata": {
      "needs_background": "light"
     },
     "output_type": "display_data"
    }
   ],
   "source": [
    "plt.errorbar(x,y,sig,fmt=\"ob\")\n",
    "plt.xlabel('x')\n",
    "plt.ylabel('y')\n",
    "plt.title('Ejercicio 02 de noviembre')\n",
    "plt.show()"
   ]
  },
  {
   "cell_type": "code",
   "execution_count": 8,
   "metadata": {},
   "outputs": [
    {
     "data": {
      "image/png": "[encoded data removed]",
      "text/plain": [
       "<Figure size 432x288 with 1 Axes>"
      ]
     },
     "metadata": {
      "needs_background": "light"
     },
     "output_type": "display_data"
    }
   ],
   "source": [
    "plt.plot(A[0],ych2,'r--')\n",
    "plt.plot(A[0],A[1], 'o')\n",
    "plt.xlabel('x')\n",
    "plt.ylabel('y')\n",
    "plt.title('Chi-square/02 Nov')\n",
    "plt.show()"
   ]
  },
  {
   "cell_type": "code",
   "execution_count": 9,
   "metadata": {},
   "outputs": [
    {
     "data": {
      "image/png": "[encoded data removed]",
      "text/plain": [
       "<Figure size 432x288 with 1 Axes>"
      ]
     },
     "metadata": {
      "needs_background": "light"
     },
     "output_type": "display_data"
    }
   ],
   "source": [
    "line(matA,matB)"
   ]
  },
  {
   "cell_type": "code",
   "execution_count": 10,
   "metadata": {},
   "outputs": [
    {
     "name": "stdout",
     "output_type": "stream",
     "text": [
      "206.78037289901516\n",
      "198.71302923869158\n",
      "204.90257376959272\n"
     ]
    }
   ],
   "source": [
    "#ordenada al origen MCMC\n",
    "for i in range(c):\n",
    "    print(matA[i][N-1])"
   ]
  },
  {
   "cell_type": "code",
   "execution_count": 11,
   "metadata": {},
   "outputs": [
    {
     "name": "stdout",
     "output_type": "stream",
     "text": [
      "18.417585649206448\n",
      "25.153362149073715\n",
      "21.882297713912923\n"
     ]
    }
   ],
   "source": [
    "#pendiente MCMC\n",
    "for i in range(c):\n",
    "    print(matB[i][N-1])"
   ]
  },
  {
   "cell_type": "code",
   "execution_count": 12,
   "metadata": {},
   "outputs": [
    {
     "data": {
      "text/plain": [
       "206.78480763265924"
      ]
     },
     "execution_count": 12,
     "metadata": {},
     "output_type": "execute_result"
    }
   ],
   "source": [
    "#ordenada al origen chi-square\n",
    "beta_opt.x[0]"
   ]
  },
  {
   "cell_type": "code",
   "execution_count": 13,
   "metadata": {},
   "outputs": [
    {
     "data": {
      "text/plain": [
       "19.338656725819035"
      ]
     },
     "execution_count": 13,
     "metadata": {},
     "output_type": "execute_result"
    }
   ],
   "source": [
    "#pendiente chi-square\n",
    "beta_opt.x[1]"
   ]
  },
  {
   "cell_type": "code",
   "execution_count": null,
   "metadata": {},
   "outputs": [],
   "source": []
  }
 ],
 "metadata": {
  "kernelspec": {
   "display_name": "Python 3",
   "language": "python",
   "name": "python3"
  },
  "language_info": {
   "codemirror_mode": {
    "name": "ipython",
    "version": 3
   },
   "file_extension": ".py",
   "mimetype": "text/x-python",
   "name": "python",
   "nbconvert_exporter": "python",
   "pygments_lexer": "ipython3",
   "version": "3.8.5"
  }
 },
 "nbformat": 4,
 "nbformat_minor": 4
}
