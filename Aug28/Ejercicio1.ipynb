{
 "cells": [
  {
   "cell_type": "markdown",
   "metadata": {},
   "source": [
    "# Actividad clase 28 de Agosto\n",
    "## Escriba un código simple"
   ]
  },
  {
   "cell_type": "code",
   "execution_count": 1,
   "metadata": {},
   "outputs": [],
   "source": [
    "# En esta parte declaro mis constantes \n",
    "#tiempo incial\n",
    "a=0\n",
    "#tiempo final\n",
    "b=1\n",
    "#numero de intervalos\n",
    "N=10\n",
    "#longitud y gravedad\n",
    "l=4\n",
    "g=9.81"
   ]
  },
  {
   "cell_type": "code",
   "execution_count": 2,
   "metadata": {},
   "outputs": [],
   "source": [
    "#Condiciones inicales\n",
    "#posición inicial\n",
    "x=0\n",
    "#velocidad inicial\n",
    "w=0"
   ]
  },
  {
   "cell_type": "code",
   "execution_count": 5,
   "metadata": {},
   "outputs": [],
   "source": [
    "#Paso 1\n",
    "h=(b-a)/N\n"
   ]
  }
 ],
 "metadata": {
  "kernelspec": {
   "display_name": "Python 3",
   "language": "python",
   "name": "python3"
  },
  "language_info": {
   "codemirror_mode": {
    "name": "ipython",
    "version": 3
   },
   "file_extension": ".py",
   "mimetype": "text/x-python",
   "name": "python",
   "nbconvert_exporter": "python",
   "pygments_lexer": "ipython3",
   "version": "3.8.5"
  }
 },
 "nbformat": 4,
 "nbformat_minor": 4
}
