{
 "cells": [
  {
   "cell_type": "code",
   "execution_count": 1,
   "metadata": {},
   "outputs": [],
   "source": [
    "#Importando librerías\n",
    "import numpy as np\n",
    "import matplotlib.pyplot as plt\n",
    "from scipy import stats\n",
    "import scipy.optimize as opt"
   ]
  },
  {
   "cell_type": "code",
   "execution_count": 2,
   "metadata": {},
   "outputs": [],
   "source": [
    "#Cargando los datos\n",
    "A=np.load('fit_exercise.npy')\n",
    "x=A[0]\n",
    "y=A[1]\n",
    "sig=A[2]\n",
    "sigma=0.05"
   ]
  },
  {
   "cell_type": "code",
   "execution_count": 3,
   "metadata": {},
   "outputs": [],
   "source": [
    "#parámetros\n",
    "#Número de pasos\n",
    "N=1000\n",
    "#Número de cadenas\n",
    "c=4"
   ]
  },
  {
   "cell_type": "code",
   "execution_count": 4,
   "metadata": {},
   "outputs": [],
   "source": [
    "#Funciones\n",
    "# funcion del modelo\n",
    "def f(x, a, b):\n",
    "    return a + b*x\n",
    "\n",
    "# Likelihood\n",
    "def llh(a,b):\n",
    "    #return -0.5*np.sum((y - f(x, *theta))**2/(sig**2))\n",
    "    return -0.5*np.sum(np.log(2*np.pi*sig**2)+(y - f(x,a,b))**2/(sig**2))#Con este ya funciona\n",
    "\n",
    "def prior():\n",
    "    if sigma <= 0:\n",
    "        return 0.0\n",
    "    return 1\n",
    "    \n",
    "# Posterior\n",
    "def p(a,b):\n",
    "    return llh(a,b)-np.log(prior())\n",
    "\n",
    "# Generador de muestras\n",
    "def sample(a,b,tasa):\n",
    "    a_new=np.random.normal(a, sigma)\n",
    "    b_new=np.random.normal(b,sigma)\n",
    "    p_old = p(a,b)\n",
    "    p_new = p(a_new,b_new)\n",
    "    if p_new>p_old:\n",
    "            a=a_new\n",
    "            b=b_new\n",
    "            tasa=tasa+1\n",
    "    else:\n",
    "            p_accept= p_new - p_old\n",
    "            accept = np.log(np.random.rand())\n",
    "            if accept< p_accept:\n",
    "                a= a_new\n",
    "                b= b_new\n",
    "                tasa=tasa+1\n",
    "   \n",
    "    return a,b,tasa\n",
    "\n",
    "#Generador de chain\n",
    "def cadena(n):\n",
    "    #Vector donde se guardan las nuevas coordenadas de a y se genera número aleatorio de inicio.\n",
    "    ap=np.array([np.random.uniform(0, 7)])\n",
    "    #Vector donde se guardan las nuevas coordenadas de b y se genera número aleatorio de inicio.\n",
    "    bp=np.array([np.random.uniform(-3, 3)])\n",
    "    #creo una variable para el número de aceptados y la inicilizo en cero \n",
    "    acep=0\n",
    "    for i in range(1,n):\n",
    "        aux1,aux2,aux3=sample(ap[i-1],bp[i-1],acep)\n",
    "        ap=np.append(ap,aux1)\n",
    "        bp=np.append(bp,aux2)\n",
    "        acep=aux3\n",
    "    #porcentaje de aceptación\n",
    "    porc=(acep/n)*100\n",
    "    return ap,bp,porc\n",
    "\n",
    "#Está función recibe el número de cadenas y el número de pasos\n",
    "def multicad(ch,l):\n",
    "    MA=np.empty((ch,l))\n",
    "    MB=np.empty((ch,l))\n",
    "    PA=np.zeros(ch)\n",
    "    for i in range(ch):\n",
    "        MA[i],MB[i],PA[i]=cadena(l)\n",
    "    \n",
    "    return MA,MB,PA   "
   ]
  },
  {
   "cell_type": "code",
   "execution_count": 5,
   "metadata": {},
   "outputs": [],
   "source": [
    "matA,matB,t_acep=multicad(c,N)"
   ]
  },
  {
   "cell_type": "code",
   "execution_count": 8,
   "metadata": {},
   "outputs": [
    {
     "data": {
      "image/png": "[encoded data removed]",
      "text/plain": [
       "<Figure size 432x288 with 1 Axes>"
      ]
     },
     "metadata": {
      "needs_background": "light"
     },
     "output_type": "display_data"
    }
   ],
   "source": [
    "plt.plot(matA[0],matB[0],'.')\n",
    "plt.plot(matA[0][0],matB[0][0],'o')\n",
    "\n",
    "plt.plot(matA[1],matB[1],'.')\n",
    "plt.plot(matA[1][0],matB[1][0],'o')\n",
    "\n",
    "plt.plot(matA[2],matB[2],'.')\n",
    "plt.plot(matA[2][0],matB[2][0],'o')\n",
    "\n",
    "plt.plot(matA[3],matB[3],'.')\n",
    "plt.plot(matA[3][0],matB[3][0],'o')\n",
    "\n",
    "\n",
    "plt.xlabel('a')\n",
    "plt.ylabel('b')\n",
    "plt.grid(True)\n",
    "plt.show()"
   ]
  },
  {
   "cell_type": "code",
   "execution_count": 10,
   "metadata": {},
   "outputs": [
    {
     "data": {
      "text/plain": [
       "[<matplotlib.lines.Line2D at 0x122cb2ee0>]"
      ]
     },
     "execution_count": 10,
     "metadata": {},
     "output_type": "execute_result"
    },
    {
     "data": {
      "image/png": "[encoded data removed]",
      "text/plain": [
       "<Figure size 432x288 with 1 Axes>"
      ]
     },
     "metadata": {
      "needs_background": "light"
     },
     "output_type": "display_data"
    }
   ],
   "source": [
    "plt.plot(t_acep,'.')"
   ]
  },
  {
   "cell_type": "code",
   "execution_count": null,
   "metadata": {},
   "outputs": [],
   "source": []
  }
 ],
 "metadata": {
  "kernelspec": {
   "display_name": "Python 3",
   "language": "python",
   "name": "python3"
  },
  "language_info": {
   "codemirror_mode": {
    "name": "ipython",
    "version": 3
   },
   "file_extension": ".py",
   "mimetype": "text/x-python",
   "name": "python",
   "nbconvert_exporter": "python",
   "pygments_lexer": "ipython3",
   "version": "3.8.5"
  }
 },
 "nbformat": 4,
 "nbformat_minor": 4
}
