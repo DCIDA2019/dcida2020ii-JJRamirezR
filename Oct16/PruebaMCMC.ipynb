{
 "cells": [
  {
   "cell_type": "code",
   "execution_count": 1,
   "metadata": {},
   "outputs": [],
   "source": [
    "#Importando librerías\n",
    "import numpy as np\n",
    "import matplotlib.pyplot as plt\n",
    "from scipy import stats\n",
    "import scipy.optimize as opt"
   ]
  },
  {
   "cell_type": "code",
   "execution_count": 2,
   "metadata": {},
   "outputs": [],
   "source": [
    "#Cargando los datos\n",
    "A=np.load('fit_exercise.npy')\n",
    "x=A[0]\n",
    "y=A[1]\n",
    "sig=A[2]\n",
    "sigma=0.1\n"
   ]
  },
  {
   "cell_type": "code",
   "execution_count": 61,
   "metadata": {},
   "outputs": [],
   "source": [
    "#Funciones\n",
    "# funcion del modelo\n",
    "def f(x, a, b):\n",
    "    return a + b*x\n",
    "\n",
    "# Likelihood\n",
    "def llh(theta):\n",
    "    #return -0.5*np.sum((y - f(x, *theta))**2/(sig**2))\n",
    "    return -0.5*np.sum(np.log(2*np.pi*sig**2)+(y - f(x, *theta))**2/(sig**2))#Con este ya funciona\n",
    "\n",
    "def prior():\n",
    "    if sigma <= 0:\n",
    "        return 0.0\n",
    "    return 1\n",
    "    \n",
    "# Posterior\n",
    "def p(theta):\n",
    "    return llh(theta)-np.log(prior())\n",
    "\n",
    "# Generador de muestras\n",
    "def sample(a,b):\n",
    "    th=(a,b)\n",
    "    a_new=np.random.normal(a, sigma)\n",
    "    b_new=np.random.normal(b,sigma)\n",
    "    th_new=(a_new,b_new)\n",
    "    p_old = p(th)\n",
    "    p_new = p(th_new)\n",
    "    if p_new>p_old:\n",
    "            th= th_new\n",
    "    else:\n",
    "            p_accept= p_new - p_old\n",
    "            accept = np.log(np.random.rand())\n",
    "            if accept< p_accept:\n",
    "                th= th_new\n",
    "   \n",
    "    return th"
   ]
  },
  {
   "cell_type": "code",
   "execution_count": 77,
   "metadata": {},
   "outputs": [
    {
     "data": {
      "image/png": "[encoded data removed]",
      "text/plain": [
       "<Figure size 432x288 with 1 Axes>"
      ]
     },
     "metadata": {
      "needs_background": "light"
     },
     "output_type": "display_data"
    },
    {
     "data": {
      "text/plain": [
       "(5.474598201746915, -1.11495989727202)"
      ]
     },
     "execution_count": 77,
     "metadata": {},
     "output_type": "execute_result"
    }
   ],
   "source": [
    "#Valor inicial de los valores\n",
    "tp=(0,0)\n",
    "#Número de pasos\n",
    "N=10000\n",
    "#Vector donde se guardan las nuevas coordenadas de a\n",
    "ap=[]\n",
    "#Vector donde se guardan las nuevas coordenadas de b\n",
    "bp=[]\n",
    "#Guardo los valores iniciales de a y b\n",
    "ap.append(tp[0])\n",
    "bp.append(tp[1])\n",
    "postp=[]\n",
    "postp.append(tp)\n",
    "for i in range(N): \n",
    "    aux=sample(*postp[i])\n",
    "    ap.append(aux[0])\n",
    "    bp.append(aux[1])\n",
    "    postp.append(aux)\n",
    "    \n",
    "#Gráfica de los puntos que se van generando\n",
    "plt.plot(ap,bp,'.')\n",
    "plt.plot(tp[0],tp[1],'go')\n",
    "plt.xlabel('a')\n",
    "plt.ylabel('b')\n",
    "plt.xlim((-0.2, 6))\n",
    "plt.ylim((-1.5, 0.5))\n",
    "plt.grid(True)\n",
    "plt.show()\n",
    "postp[N]"
   ]
  },
  {
   "cell_type": "code",
   "execution_count": 78,
   "metadata": {},
   "outputs": [
    {
     "data": {
      "text/plain": [
       "10001"
      ]
     },
     "execution_count": 78,
     "metadata": {},
     "output_type": "execute_result"
    }
   ],
   "source": [
    "len(postp)"
   ]
  },
  {
   "cell_type": "code",
   "execution_count": 66,
   "metadata": {},
   "outputs": [
    {
     "data": {
      "image/png": "[encoded data removed]",
      "text/plain": [
       "<Figure size 432x288 with 1 Axes>"
      ]
     },
     "metadata": {
      "needs_background": "light"
     },
     "output_type": "display_data"
    }
   ],
   "source": [
    "#Línea que se genera con los datos\n",
    "ymodel=postp[N][0]+postp[N][1]*x\n",
    "plt.plot(x,y,'g.')\n",
    "plt.plot(x,ymodel,'r')\n",
    "plt.show()"
   ]
  },
  {
   "cell_type": "code",
   "execution_count": 79,
   "metadata": {},
   "outputs": [
    {
     "data": {
      "text/plain": [
       "(array([9.651e+03, 3.100e+01, 4.000e+01, 7.500e+01, 6.100e+01, 5.700e+01,\n",
       "        2.700e+01, 4.000e+01, 1.400e+01, 5.000e+00]),\n",
       " array([-1.15269109, -1.03742198, -0.92215287, -0.80688376, -0.69161465,\n",
       "        -0.57634554, -0.46107644, -0.34580733, -0.23053822, -0.11526911,\n",
       "         0.        ]),\n",
       " <BarContainer object of 10 artists>)"
      ]
     },
     "execution_count": 79,
     "metadata": {},
     "output_type": "execute_result"
    },
    {
     "data": {
      "image/png": "[encoded data removed]",
      "text/plain": [
       "<Figure size 432x288 with 1 Axes>"
      ]
     },
     "metadata": {
      "needs_background": "light"
     },
     "output_type": "display_data"
    }
   ],
   "source": [
    "plt.hist(bp)"
   ]
  },
  {
   "cell_type": "code",
   "execution_count": 4,
   "metadata": {},
   "outputs": [],
   "source": [
    "#valores iniciales de los parámetros \n",
    "#theta_start = (1, 1)\n",
    "t=(-1.0,4.5)\n",
    "post=[]\n",
    "post.append(t)\n",
    "for i in range(5):\n",
    "    post.append(sample(*post[i]))\n",
    "    \n"
   ]
  },
  {
   "cell_type": "code",
   "execution_count": null,
   "metadata": {},
   "outputs": [],
   "source": []
  }
 ],
 "metadata": {
  "kernelspec": {
   "display_name": "Python 3",
   "language": "python",
   "name": "python3"
  },
  "language_info": {
   "codemirror_mode": {
    "name": "ipython",
    "version": 3
   },
   "file_extension": ".py",
   "mimetype": "text/x-python",
   "name": "python",
   "nbconvert_exporter": "python",
   "pygments_lexer": "ipython3",
   "version": "3.8.5"
  }
 },
 "nbformat": 4,
 "nbformat_minor": 4
}
