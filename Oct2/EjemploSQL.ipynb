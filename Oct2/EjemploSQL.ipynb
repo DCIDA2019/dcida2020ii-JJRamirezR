{
 "cells": [
  {
   "cell_type": "code",
   "execution_count": 1,
   "metadata": {},
   "outputs": [],
   "source": [
    "#Importando librerías.\n",
    "import pandas as pd\n",
    "import sqlite3"
   ]
  },
  {
   "cell_type": "markdown",
   "metadata": {},
   "source": [
    "En esta parte del programa trata de importar un archivo .csv a un manejable con sql."
   ]
  },
  {
   "cell_type": "code",
   "execution_count": 2,
   "metadata": {},
   "outputs": [],
   "source": [
    "#Crea mi dataframa porveninte de un archivo csv.\n",
    "file = 'lluvia_2019.csv'\n",
    "df = pd.read_csv(file)"
   ]
  },
  {
   "cell_type": "code",
   "execution_count": 3,
   "metadata": {},
   "outputs": [
    {
     "data": {
      "text/html": [
       "<div>\n",
       "<style scoped>\n",
       "    .dataframe tbody tr th:only-of-type {\n",
       "        vertical-align: middle;\n",
       "    }\n",
       "\n",
       "    .dataframe tbody tr th {\n",
       "        vertical-align: top;\n",
       "    }\n",
       "\n",
       "    .dataframe thead th {\n",
       "        text-align: right;\n",
       "    }\n",
       "</style>\n",
       "<table border=\"1\" class=\"dataframe\">\n",
       "  <thead>\n",
       "    <tr style=\"text-align: right;\">\n",
       "      <th></th>\n",
       "      <th>Unnamed: 0</th>\n",
       "      <th>LON</th>\n",
       "      <th>LAT</th>\n",
       "      <th>EDO</th>\n",
       "      <th>CLAVE_SIH</th>\n",
       "      <th>NOMBRE</th>\n",
       "      <th>ENE</th>\n",
       "    </tr>\n",
       "  </thead>\n",
       "  <tbody>\n",
       "    <tr>\n",
       "      <th>0</th>\n",
       "      <td>0</td>\n",
       "      <td>-102.309722</td>\n",
       "      <td>21.895000</td>\n",
       "      <td>AGS</td>\n",
       "      <td>AGSAG</td>\n",
       "      <td>Aguascalientes, Ags.</td>\n",
       "      <td>6.61</td>\n",
       "    </tr>\n",
       "    <tr>\n",
       "      <th>1</th>\n",
       "      <td>1</td>\n",
       "      <td>-102.466944</td>\n",
       "      <td>22.188611</td>\n",
       "      <td>AGS</td>\n",
       "      <td>ANVAG</td>\n",
       "      <td>Cincuenta Aniversario, Ags.</td>\n",
       "      <td>10.60</td>\n",
       "    </tr>\n",
       "    <tr>\n",
       "      <th>2</th>\n",
       "      <td>2</td>\n",
       "      <td>-102.184167</td>\n",
       "      <td>21.738611</td>\n",
       "      <td>AGS</td>\n",
       "      <td>BRTAG</td>\n",
       "      <td>San Bartolo, Ags.</td>\n",
       "      <td>10.50</td>\n",
       "    </tr>\n",
       "    <tr>\n",
       "      <th>3</th>\n",
       "      <td>3</td>\n",
       "      <td>-102.712222</td>\n",
       "      <td>21.849167</td>\n",
       "      <td>AGS</td>\n",
       "      <td>CALVILLO</td>\n",
       "      <td>Calvillo, Ags. SMN*</td>\n",
       "      <td>18.17</td>\n",
       "    </tr>\n",
       "    <tr>\n",
       "      <th>4</th>\n",
       "      <td>4</td>\n",
       "      <td>-102.676944</td>\n",
       "      <td>21.997500</td>\n",
       "      <td>AGS</td>\n",
       "      <td>CDRAG</td>\n",
       "      <td>La Codorniz, Ags.</td>\n",
       "      <td>16.70</td>\n",
       "    </tr>\n",
       "  </tbody>\n",
       "</table>\n",
       "</div>"
      ],
      "text/plain": [
       "   Unnamed: 0         LON        LAT  EDO CLAVE_SIH  \\\n",
       "0           0 -102.309722  21.895000  AGS     AGSAG   \n",
       "1           1 -102.466944  22.188611  AGS     ANVAG   \n",
       "2           2 -102.184167  21.738611  AGS     BRTAG   \n",
       "3           3 -102.712222  21.849167  AGS  CALVILLO   \n",
       "4           4 -102.676944  21.997500  AGS     CDRAG   \n",
       "\n",
       "                        NOMBRE    ENE  \n",
       "0         Aguascalientes, Ags.   6.61  \n",
       "1  Cincuenta Aniversario, Ags.  10.60  \n",
       "2            San Bartolo, Ags.  10.50  \n",
       "3          Calvillo, Ags. SMN*  18.17  \n",
       "4            La Codorniz, Ags.  16.70  "
      ]
     },
     "execution_count": 3,
     "metadata": {},
     "output_type": "execute_result"
    }
   ],
   "source": [
    "#Compruebo si se ha cargado bien.\n",
    "df.head()"
   ]
  },
  {
   "cell_type": "code",
   "execution_count": 4,
   "metadata": {},
   "outputs": [
    {
     "data": {
      "text/plain": [
       "Index(['Unnamed: 0', 'LON', 'LAT', 'EDO', 'CLAVE_SIH', 'NOMBRE', 'ENE'], dtype='object')"
      ]
     },
     "execution_count": 4,
     "metadata": {},
     "output_type": "execute_result"
    }
   ],
   "source": [
    "#Reviso el nombre de las columnas.\n",
    "df.columns"
   ]
  },
  {
   "cell_type": "code",
   "execution_count": 5,
   "metadata": {},
   "outputs": [],
   "source": [
    "#Elimino la primera columna que es irrelevante.\n",
    "df=df.drop(['Unnamed: 0'], axis=1)"
   ]
  },
  {
   "cell_type": "code",
   "execution_count": 6,
   "metadata": {},
   "outputs": [],
   "source": [
    "#Creo la conexión a la base de datos 'ejemplo.db'(si no existe, la crea)\n",
    "conn = sqlite3.connect(\"ejmplo.db\")\n",
    "\n",
    "#cerramos la conexión\n",
    "conn.close()"
   ]
  },
  {
   "cell_type": "code",
   "execution_count": 7,
   "metadata": {},
   "outputs": [],
   "source": [
    "conn=sqlite3.connect(\"ejmplo.db\") \n",
    "#guardo la tabla en ejmplo.db y le pongo el nombre de lluvia2019, si ya existe la reemplaza\n",
    "\n",
    "df.to_sql(\"lluvia2019\", conn, if_exists=\"replace\")\n",
    "\n",
    "conn.close()"
   ]
  },
  {
   "cell_type": "code",
   "execution_count": 8,
   "metadata": {},
   "outputs": [
    {
     "name": "stdout",
     "output_type": "stream",
     "text": [
      "[(0, -102.309722, 21.895, 'AGS', 'AGSAG', 'Aguascalientes, Ags.', 6.61), (1, -102.466944, 22.188611, 'AGS', 'ANVAG', 'Cincuenta Aniversario, Ags.', 10.6), (2, -102.184167, 21.738611, 'AGS', 'BRTAG', 'San Bartolo, Ags.', 10.5), (3, -102.712222, 21.849167, 'AGS', 'CALVILLO', 'Calvillo, Ags. SMN*', 18.17), (4, -102.676944, 21.9975, 'AGS', 'CDRAG', 'La Codorniz, Ags.', 16.7)]\n"
     ]
    }
   ],
   "source": [
    "#vamos a tratar de manejar la base de datos\n",
    "conn = sqlite3.connect(\"ejmplo.db\")\n",
    "cur = conn.cursor()\n",
    "\n",
    "cur.execute(\"select * from lluvia2019 limit 5;\")\n",
    "results = cur.fetchall()\n",
    "print(results)\n",
    "\n",
    "cur.close()\n",
    "conn.close()"
   ]
  },
  {
   "cell_type": "markdown",
   "metadata": {},
   "source": [
    "vamos a leer ahora el archivo con pandas proveniente de la base de datos, aunque ya existe el dataframe lo hago para seguir el tutorial."
   ]
  },
  {
   "cell_type": "code",
   "execution_count": 9,
   "metadata": {},
   "outputs": [],
   "source": [
    "conn = sqlite3.connect(\"ejmplo.db\")\n",
    "df2 = pd.read_sql_query(\"select * from lluvia2019 limit 5;\", conn)\n",
    "\n",
    "conn.close()"
   ]
  },
  {
   "cell_type": "code",
   "execution_count": 10,
   "metadata": {},
   "outputs": [
    {
     "data": {
      "text/html": [
       "<div>\n",
       "<style scoped>\n",
       "    .dataframe tbody tr th:only-of-type {\n",
       "        vertical-align: middle;\n",
       "    }\n",
       "\n",
       "    .dataframe tbody tr th {\n",
       "        vertical-align: top;\n",
       "    }\n",
       "\n",
       "    .dataframe thead th {\n",
       "        text-align: right;\n",
       "    }\n",
       "</style>\n",
       "<table border=\"1\" class=\"dataframe\">\n",
       "  <thead>\n",
       "    <tr style=\"text-align: right;\">\n",
       "      <th></th>\n",
       "      <th>index</th>\n",
       "      <th>LON</th>\n",
       "      <th>LAT</th>\n",
       "      <th>EDO</th>\n",
       "      <th>CLAVE_SIH</th>\n",
       "      <th>NOMBRE</th>\n",
       "      <th>ENE</th>\n",
       "    </tr>\n",
       "  </thead>\n",
       "  <tbody>\n",
       "    <tr>\n",
       "      <th>0</th>\n",
       "      <td>0</td>\n",
       "      <td>-102.309722</td>\n",
       "      <td>21.895000</td>\n",
       "      <td>AGS</td>\n",
       "      <td>AGSAG</td>\n",
       "      <td>Aguascalientes, Ags.</td>\n",
       "      <td>6.61</td>\n",
       "    </tr>\n",
       "    <tr>\n",
       "      <th>1</th>\n",
       "      <td>1</td>\n",
       "      <td>-102.466944</td>\n",
       "      <td>22.188611</td>\n",
       "      <td>AGS</td>\n",
       "      <td>ANVAG</td>\n",
       "      <td>Cincuenta Aniversario, Ags.</td>\n",
       "      <td>10.60</td>\n",
       "    </tr>\n",
       "    <tr>\n",
       "      <th>2</th>\n",
       "      <td>2</td>\n",
       "      <td>-102.184167</td>\n",
       "      <td>21.738611</td>\n",
       "      <td>AGS</td>\n",
       "      <td>BRTAG</td>\n",
       "      <td>San Bartolo, Ags.</td>\n",
       "      <td>10.50</td>\n",
       "    </tr>\n",
       "    <tr>\n",
       "      <th>3</th>\n",
       "      <td>3</td>\n",
       "      <td>-102.712222</td>\n",
       "      <td>21.849167</td>\n",
       "      <td>AGS</td>\n",
       "      <td>CALVILLO</td>\n",
       "      <td>Calvillo, Ags. SMN*</td>\n",
       "      <td>18.17</td>\n",
       "    </tr>\n",
       "    <tr>\n",
       "      <th>4</th>\n",
       "      <td>4</td>\n",
       "      <td>-102.676944</td>\n",
       "      <td>21.997500</td>\n",
       "      <td>AGS</td>\n",
       "      <td>CDRAG</td>\n",
       "      <td>La Codorniz, Ags.</td>\n",
       "      <td>16.70</td>\n",
       "    </tr>\n",
       "  </tbody>\n",
       "</table>\n",
       "</div>"
      ],
      "text/plain": [
       "   index         LON        LAT  EDO CLAVE_SIH                       NOMBRE  \\\n",
       "0      0 -102.309722  21.895000  AGS     AGSAG         Aguascalientes, Ags.   \n",
       "1      1 -102.466944  22.188611  AGS     ANVAG  Cincuenta Aniversario, Ags.   \n",
       "2      2 -102.184167  21.738611  AGS     BRTAG            San Bartolo, Ags.   \n",
       "3      3 -102.712222  21.849167  AGS  CALVILLO          Calvillo, Ags. SMN*   \n",
       "4      4 -102.676944  21.997500  AGS     CDRAG            La Codorniz, Ags.   \n",
       "\n",
       "     ENE  \n",
       "0   6.61  \n",
       "1  10.60  \n",
       "2  10.50  \n",
       "3  18.17  \n",
       "4  16.70  "
      ]
     },
     "execution_count": 10,
     "metadata": {},
     "output_type": "execute_result"
    }
   ],
   "source": [
    "df2"
   ]
  },
  {
   "cell_type": "code",
   "execution_count": 11,
   "metadata": {},
   "outputs": [
    {
     "data": {
      "text/plain": [
       "0           Aguascalientes, Ags.\n",
       "1    Cincuenta Aniversario, Ags.\n",
       "2              San Bartolo, Ags.\n",
       "3            Calvillo, Ags. SMN*\n",
       "4              La Codorniz, Ags.\n",
       "Name: NOMBRE, dtype: object"
      ]
     },
     "execution_count": 11,
     "metadata": {},
     "output_type": "execute_result"
    }
   ],
   "source": [
    "df2['NOMBRE']"
   ]
  },
  {
   "cell_type": "code",
   "execution_count": 13,
   "metadata": {},
   "outputs": [],
   "source": [
    "conn = sqlite3.connect(\"ejmplo.db\")\n",
    "cur = conn.cursor()\n",
    "\n",
    "#insertamos un renglón con valores arbitrarios\n",
    "cur.execute(\"insert into lluvia2019 values (1941,-100,20,'GTO','GTOJR','Juventino Rosas, Gto.',5.00)\")\n",
    "\n",
    "#es necesario este comando para llevar a cabo las modificaciones\n",
    "conn.commit()\n",
    "a=pd.read_sql_query(\"select * from lluvia2019 where NOMBRE='Juventino Rosas, Gto.';\", conn)\n",
    "cur.close()\n",
    "conn.close()"
   ]
  },
  {
   "cell_type": "code",
   "execution_count": 14,
   "metadata": {},
   "outputs": [
    {
     "data": {
      "text/html": [
       "<div>\n",
       "<style scoped>\n",
       "    .dataframe tbody tr th:only-of-type {\n",
       "        vertical-align: middle;\n",
       "    }\n",
       "\n",
       "    .dataframe tbody tr th {\n",
       "        vertical-align: top;\n",
       "    }\n",
       "\n",
       "    .dataframe thead th {\n",
       "        text-align: right;\n",
       "    }\n",
       "</style>\n",
       "<table border=\"1\" class=\"dataframe\">\n",
       "  <thead>\n",
       "    <tr style=\"text-align: right;\">\n",
       "      <th></th>\n",
       "      <th>index</th>\n",
       "      <th>LON</th>\n",
       "      <th>LAT</th>\n",
       "      <th>EDO</th>\n",
       "      <th>CLAVE_SIH</th>\n",
       "      <th>NOMBRE</th>\n",
       "      <th>ENE</th>\n",
       "    </tr>\n",
       "  </thead>\n",
       "  <tbody>\n",
       "    <tr>\n",
       "      <th>0</th>\n",
       "      <td>1941</td>\n",
       "      <td>-100.0</td>\n",
       "      <td>20.0</td>\n",
       "      <td>GTO</td>\n",
       "      <td>GTOJR</td>\n",
       "      <td>Juventino Rosas, Gto.</td>\n",
       "      <td>5.0</td>\n",
       "    </tr>\n",
       "  </tbody>\n",
       "</table>\n",
       "</div>"
      ],
      "text/plain": [
       "   index    LON   LAT  EDO CLAVE_SIH                 NOMBRE  ENE\n",
       "0   1941 -100.0  20.0  GTO     GTOJR  Juventino Rosas, Gto.  5.0"
      ]
     },
     "execution_count": 14,
     "metadata": {},
     "output_type": "execute_result"
    }
   ],
   "source": [
    "#Comprobamos que este dentro del database\n",
    "a"
   ]
  },
  {
   "cell_type": "markdown",
   "metadata": {},
   "source": [
    "# Updating"
   ]
  },
  {
   "cell_type": "code",
   "execution_count": 18,
   "metadata": {},
   "outputs": [
    {
     "data": {
      "text/html": [
       "<div>\n",
       "<style scoped>\n",
       "    .dataframe tbody tr th:only-of-type {\n",
       "        vertical-align: middle;\n",
       "    }\n",
       "\n",
       "    .dataframe tbody tr th {\n",
       "        vertical-align: top;\n",
       "    }\n",
       "\n",
       "    .dataframe thead th {\n",
       "        text-align: right;\n",
       "    }\n",
       "</style>\n",
       "<table border=\"1\" class=\"dataframe\">\n",
       "  <thead>\n",
       "    <tr style=\"text-align: right;\">\n",
       "      <th></th>\n",
       "      <th>index</th>\n",
       "      <th>LON</th>\n",
       "      <th>LAT</th>\n",
       "      <th>EDO</th>\n",
       "      <th>CLAVE_SIH</th>\n",
       "      <th>NOMBRE</th>\n",
       "      <th>ENE</th>\n",
       "    </tr>\n",
       "  </thead>\n",
       "  <tbody>\n",
       "    <tr>\n",
       "      <th>0</th>\n",
       "      <td>1941</td>\n",
       "      <td>-100.0</td>\n",
       "      <td>20.64</td>\n",
       "      <td>GTO</td>\n",
       "      <td>GTOJR</td>\n",
       "      <td>Juventino Rosas, Gto.</td>\n",
       "      <td>5.0</td>\n",
       "    </tr>\n",
       "  </tbody>\n",
       "</table>\n",
       "</div>"
      ],
      "text/plain": [
       "   index    LON    LAT  EDO CLAVE_SIH                 NOMBRE  ENE\n",
       "0   1941 -100.0  20.64  GTO     GTOJR  Juventino Rosas, Gto.  5.0"
      ]
     },
     "execution_count": 18,
     "metadata": {},
     "output_type": "execute_result"
    }
   ],
   "source": [
    "#Updating\n",
    "conn = sqlite3.connect(\"ejmplo.db\")\n",
    "cur = conn.cursor()\n",
    "\n",
    "values = (20.64, 'GTOJR')\n",
    "cur.execute(\"update lluvia2019 set LAT=? where CLAVE_SIH=?\", values)\n",
    "\n",
    "conn.commit()\n",
    "a=pd.read_sql_query(\"select * from lluvia2019 where CLAVE_SIH='GTOJR';\", conn)\n",
    "cur.close()\n",
    "conn.close()\n",
    "a"
   ]
  },
  {
   "cell_type": "markdown",
   "metadata": {},
   "source": [
    "# Deleting"
   ]
  },
  {
   "cell_type": "code",
   "execution_count": 19,
   "metadata": {},
   "outputs": [
    {
     "data": {
      "text/html": [
       "<div>\n",
       "<style scoped>\n",
       "    .dataframe tbody tr th:only-of-type {\n",
       "        vertical-align: middle;\n",
       "    }\n",
       "\n",
       "    .dataframe tbody tr th {\n",
       "        vertical-align: top;\n",
       "    }\n",
       "\n",
       "    .dataframe thead th {\n",
       "        text-align: right;\n",
       "    }\n",
       "</style>\n",
       "<table border=\"1\" class=\"dataframe\">\n",
       "  <thead>\n",
       "    <tr style=\"text-align: right;\">\n",
       "      <th></th>\n",
       "      <th>index</th>\n",
       "      <th>LON</th>\n",
       "      <th>LAT</th>\n",
       "      <th>EDO</th>\n",
       "      <th>CLAVE_SIH</th>\n",
       "      <th>NOMBRE</th>\n",
       "      <th>ENE</th>\n",
       "    </tr>\n",
       "  </thead>\n",
       "  <tbody>\n",
       "  </tbody>\n",
       "</table>\n",
       "</div>"
      ],
      "text/plain": [
       "Empty DataFrame\n",
       "Columns: [index, LON, LAT, EDO, CLAVE_SIH, NOMBRE, ENE]\n",
       "Index: []"
      ]
     },
     "execution_count": 19,
     "metadata": {},
     "output_type": "execute_result"
    }
   ],
   "source": [
    "conn = sqlite3.connect(\"ejmplo.db\")\n",
    "cur = conn.cursor()\n",
    "\n",
    "values=('GTOJR',)\n",
    "cur.execute(\"delete from lluvia2019 where CLAVE_SIH=?\", values)\n",
    "conn.commit\n",
    "a=pd.read_sql_query(\"select * from lluvia2019 where CLAVE_SIH='GTOJR';\", conn)\n",
    "\n",
    "cur.close()\n",
    "conn.close()\n",
    "a"
   ]
  },
  {
   "cell_type": "code",
   "execution_count": null,
   "metadata": {},
   "outputs": [],
   "source": []
  }
 ],
 "metadata": {
  "kernelspec": {
   "display_name": "Python 3",
   "language": "python",
   "name": "python3"
  },
  "language_info": {
   "codemirror_mode": {
    "name": "ipython",
    "version": 3
   },
   "file_extension": ".py",
   "mimetype": "text/x-python",
   "name": "python",
   "nbconvert_exporter": "python",
   "pygments_lexer": "ipython3",
   "version": "3.8.5"
  }
 },
 "nbformat": 4,
 "nbformat_minor": 4
}
